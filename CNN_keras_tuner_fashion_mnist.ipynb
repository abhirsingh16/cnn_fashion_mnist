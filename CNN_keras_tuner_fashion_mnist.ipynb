{
 "cells": [
  {
   "cell_type": "markdown",
   "metadata": {
    "id": "o3bUh-zNa7GP"
   },
   "source": [
    "**Create CNN model and Optimize it using Keras Tuner**"
   ]
  },
  {
   "cell_type": "code",
   "execution_count": 1,
   "metadata": {
    "colab": {
     "base_uri": "https://localhost:8080/"
    },
    "id": "PxVkwdsYbEHa",
    "outputId": "a5600f45-531f-4097-cf81-8e441ade77f9"
   },
   "outputs": [
    {
     "name": "stdout",
     "output_type": "stream",
     "text": [
      "Requirement already satisfied: keras-tuner in c:\\users\\abhir\\anaconda3\\envs\\gpuenv\\lib\\site-packages (1.4.7)\n",
      "Requirement already satisfied: keras in c:\\users\\abhir\\anaconda3\\envs\\gpuenv\\lib\\site-packages (from keras-tuner) (2.10.0)\n",
      "Requirement already satisfied: packaging in c:\\users\\abhir\\anaconda3\\envs\\gpuenv\\lib\\site-packages (from keras-tuner) (25.0)\n",
      "Requirement already satisfied: requests in c:\\users\\abhir\\anaconda3\\envs\\gpuenv\\lib\\site-packages (from keras-tuner) (2.32.3)\n",
      "Requirement already satisfied: kt-legacy in c:\\users\\abhir\\anaconda3\\envs\\gpuenv\\lib\\site-packages (from keras-tuner) (1.0.5)\n",
      "Requirement already satisfied: charset-normalizer<4,>=2 in c:\\users\\abhir\\anaconda3\\envs\\gpuenv\\lib\\site-packages (from requests->keras-tuner) (3.4.1)\n",
      "Requirement already satisfied: idna<4,>=2.5 in c:\\users\\abhir\\anaconda3\\envs\\gpuenv\\lib\\site-packages (from requests->keras-tuner) (3.10)\n",
      "Requirement already satisfied: urllib3<3,>=1.21.1 in c:\\users\\abhir\\anaconda3\\envs\\gpuenv\\lib\\site-packages (from requests->keras-tuner) (2.4.0)\n",
      "Requirement already satisfied: certifi>=2017.4.17 in c:\\users\\abhir\\anaconda3\\envs\\gpuenv\\lib\\site-packages (from requests->keras-tuner) (2025.1.31)\n"
     ]
    }
   ],
   "source": [
    "!pip install keras-tuner"
   ]
  },
  {
   "cell_type": "code",
   "execution_count": 2,
   "metadata": {
    "id": "2GMyZiJ9baGI"
   },
   "outputs": [],
   "source": [
    "import tensorflow as tf\n",
    "from tensorflow import keras\n",
    "import numpy as np"
   ]
  },
  {
   "cell_type": "code",
   "execution_count": 3,
   "metadata": {
    "colab": {
     "base_uri": "https://localhost:8080/"
    },
    "id": "1I1YG2VRbl3R",
    "outputId": "afd57738-ad4f-4bd4-fa44-43966fc70c96"
   },
   "outputs": [
    {
     "name": "stdout",
     "output_type": "stream",
     "text": [
      "2.10.1\n"
     ]
    }
   ],
   "source": [
    "print(tf.__version__)"
   ]
  },
  {
   "cell_type": "code",
   "execution_count": 4,
   "metadata": {
    "id": "kqEgP37ubqch"
   },
   "outputs": [],
   "source": [
    "fashion_mnist = keras.datasets.fashion_mnist"
   ]
  },
  {
   "cell_type": "code",
   "execution_count": 5,
   "metadata": {
    "colab": {
     "base_uri": "https://localhost:8080/"
    },
    "id": "suD9ickCcKCx",
    "outputId": "00c84acd-675b-4af9-c01c-2389cfd68546"
   },
   "outputs": [],
   "source": [
    "(train_images, train_labels), (test_images, test_labels) = fashion_mnist.load_data()"
   ]
  },
  {
   "cell_type": "code",
   "execution_count": 6,
   "metadata": {
    "id": "bS9JSd0AdGuc"
   },
   "outputs": [],
   "source": [
    "train_images = train_images/255.0\n",
    "test_images = test_images/255.0"
   ]
  },
  {
   "cell_type": "code",
   "execution_count": 7,
   "metadata": {
    "colab": {
     "base_uri": "https://localhost:8080/"
    },
    "id": "Vxy0sHoudsta",
    "outputId": "c7dd5516-2edc-4e5e-ac45-1fc1cb1acdf9"
   },
   "outputs": [
    {
     "data": {
      "text/plain": [
       "(28, 28)"
      ]
     },
     "execution_count": 7,
     "metadata": {},
     "output_type": "execute_result"
    }
   ],
   "source": [
    "train_images[0].shape"
   ]
  },
  {
   "cell_type": "code",
   "execution_count": 8,
   "metadata": {
    "id": "nEo2IwaQdyUs"
   },
   "outputs": [],
   "source": [
    "train_images = train_images.reshape(len(train_images),28,28,1)\n",
    "test_images = test_images.reshape(len(test_images),28,28,1)"
   ]
  },
  {
   "cell_type": "code",
   "execution_count": 9,
   "metadata": {
    "id": "g_HGJQuNeIzf"
   },
   "outputs": [],
   "source": [
    "def build_model(hp):\n",
    "  model = keras.Sequential([\n",
    "      keras.layers.Conv2D(\n",
    "        filters=hp.Int('conv_1_filter', min_value=32,max_value=128, step=16),\n",
    "        kernel_size=hp.Choice('conv_1_kernel', values=[3,5]),\n",
    "        activation='relu',\n",
    "        input_shape=(28,28,1)\n",
    "      ),\n",
    "      keras.layers.Conv2D(\n",
    "          filters=hp.Int('conv_2_filter', min_value=32,max_value=64, step=16),\n",
    "          kernel_size=hp.Choice('conv_2_kernel',values=[3,5]),\n",
    "          activation='relu',\n",
    "      ),\n",
    "      keras.layers.Flatten(),\n",
    "      keras.layers.Dense(\n",
    "          units=hp.Int('dense_1_units', min_value=32, max_value=128, step=16),\n",
    "          activation='relu'\n",
    "      ),\n",
    "      keras.layers.Dense(10,activation='softmax')\n",
    "  ])\n",
    "\n",
    "  model.compile(\n",
    "      optimizer=keras.optimizers.Adam(hp.Choice('learning_rate',\n",
    "                                                values=[1e-2, 1e-3])),\n",
    "                loss='sparse_categorical_crossentropy',\n",
    "                metrics=['accuracy'])\n",
    "  return model"
   ]
  },
  {
   "cell_type": "code",
   "execution_count": 10,
   "metadata": {
    "id": "mdaGpFwAhjYf"
   },
   "outputs": [
    {
     "name": "stderr",
     "output_type": "stream",
     "text": [
      "C:\\Users\\abhir\\AppData\\Local\\Temp\\ipykernel_11332\\3426692990.py:1: DeprecationWarning: `import kerastuner` is deprecated, please use `import keras_tuner`.\n",
      "  from kerastuner import RandomSearch\n"
     ]
    }
   ],
   "source": [
    "from keras_tuner import RandomSearch\n",
    "from keras_tuner.engine.hyperparameters import HyperParameter"
   ]
  },
  {
   "cell_type": "code",
   "execution_count": 11,
   "metadata": {
    "id": "teIN-lGChxbk"
   },
   "outputs": [],
   "source": [
    "tuner_search = RandomSearch(\n",
    "    build_model,\n",
    "    objective= 'val_accuracy',\n",
    "    max_trials=5,\n",
    "    directory='output',\n",
    "    project_name='Mnist Fashion'\n",
    ")"
   ]
  },
  {
   "cell_type": "code",
   "execution_count": null,
   "metadata": {
    "colab": {
     "base_uri": "https://localhost:8080/"
    },
    "id": "rpkuNfIeioVX",
    "outputId": "9a51c88c-aa7e-4b80-a0f3-a9e0b846f2e0"
   },
   "outputs": [
    {
     "name": "stdout",
     "output_type": "stream",
     "text": [
      "\n",
      "Search: Running Trial #1\n",
      "\n",
      "Value             |Best Value So Far |Hyperparameter\n",
      "128               |128               |conv_1_filter\n",
      "5                 |5                 |conv_1_kernel\n",
      "32                |32                |conv_2_filter\n",
      "5                 |5                 |conv_2_kernel\n",
      "32                |32                |dense_1_units\n",
      "0.001             |0.001             |learning_rate\n",
      "\n",
      "Epoch 1/3\n"
     ]
    }
   ],
   "source": [
    "tuner_search.search(train_images, train_labels, epochs=3, validation_split=0.1)"
   ]
  },
  {
   "cell_type": "code",
   "execution_count": null,
   "metadata": {
    "colab": {
     "base_uri": "https://localhost:8080/"
    },
    "id": "pPrCw3bgj2pY",
    "outputId": "96d36745-2ea8-4a8d-9141-37815004d88d"
   },
   "outputs": [],
   "source": [
    "model=tuner_search.get_best_models(num_models=1)[0]"
   ]
  },
  {
   "cell_type": "code",
   "execution_count": null,
   "metadata": {
    "colab": {
     "base_uri": "https://localhost:8080/",
     "height": 306
    },
    "id": "J1AjpKzNlDCQ",
    "outputId": "8762c888-6986-44ed-c5b1-1744d19f48cd"
   },
   "outputs": [],
   "source": [
    "model.summary()"
   ]
  },
  {
   "cell_type": "code",
   "execution_count": null,
   "metadata": {
    "colab": {
     "base_uri": "https://localhost:8080/"
    },
    "id": "EVsApCLGlH8j",
    "outputId": "93df89f8-59ea-45f7-8bc5-baba16d6db4d"
   },
   "outputs": [],
   "source": [
    "model.fit(train_images, train_labels, epochs=10, validation_split=0.1, initial_epoch=3)"
   ]
  },
  {
   "cell_type": "code",
   "execution_count": null,
   "metadata": {
    "id": "vRkvzqjzlb-p"
   },
   "outputs": [],
   "source": []
  },
  {
   "cell_type": "code",
   "execution_count": null,
   "metadata": {},
   "outputs": [],
   "source": []
  },
  {
   "cell_type": "code",
   "execution_count": null,
   "metadata": {},
   "outputs": [],
   "source": []
  }
 ],
 "metadata": {
  "accelerator": "GPU",
  "colab": {
   "gpuType": "T4",
   "provenance": []
  },
  "kernelspec": {
   "display_name": "Python 3 (ipykernel)",
   "language": "python",
   "name": "python3"
  },
  "language_info": {
   "codemirror_mode": {
    "name": "ipython",
    "version": 3
   },
   "file_extension": ".py",
   "mimetype": "text/x-python",
   "name": "python",
   "nbconvert_exporter": "python",
   "pygments_lexer": "ipython3",
   "version": "3.10.11"
  }
 },
 "nbformat": 4,
 "nbformat_minor": 4
}
